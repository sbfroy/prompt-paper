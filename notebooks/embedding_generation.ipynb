{
 "cells": [
  {
   "cell_type": "code",
   "execution_count": 6,
   "id": "e0c7121a",
   "metadata": {},
   "outputs": [],
   "source": [
    "from pathlib import Path\n",
    "import sys\n",
    "import os\n",
    "\n",
    "root = Path.cwd().parent\n",
    "sys.path.append(str(root))"
   ]
  },
  {
   "cell_type": "code",
   "execution_count": 7,
   "id": "15bb7adf",
   "metadata": {},
   "outputs": [],
   "source": [
    "icl_path = root / \"data\" / \"bsc_dataset_regplans\" / \"icl_examples.txt\"\n",
    "\n",
    "with open(icl_path, \"r\", encoding=\"utf-8\") as f:\n",
    "    content = f.read()\n",
    "\n",
    "all_ICL_examples = []\n",
    "\n",
    "for example in content.split(\"---\"):\n",
    "    all_ICL_examples.append(example.strip())"
   ]
  },
  {
   "cell_type": "code",
   "execution_count": 8,
   "id": "4457de20",
   "metadata": {},
   "outputs": [],
   "source": [
    "from openai import OpenAI\n",
    "from src.utils import get_openai_api_key\n",
    "\n",
    "client = OpenAI(api_key=get_openai_api_key())"
   ]
  },
  {
   "cell_type": "code",
   "execution_count": null,
   "id": "f04f1048",
   "metadata": {},
   "outputs": [
    {
     "name": "stderr",
     "output_type": "stream",
     "text": [
      "100%|██████████| 2373/2373 [16:31<00:00,  2.39it/s]\n"
     ]
    }
   ],
   "source": [
    "import pandas as pd\n",
    "from tqdm import tqdm\n",
    "import time\n",
    "\n",
    "def get_embedding(text, model=\"text-embedding-3-small\"):\n",
    "    text = text.replace(\"\\n\", \" \")\n",
    "    return client.embeddings.create(input=[text], model=model).data[0].embedding\n",
    "\n",
    "df = pd.DataFrame({\n",
    "    'example_id': range(len(all_ICL_examples)),\n",
    "    'text': all_ICL_examples\n",
    "})\n",
    "\n",
    "embeddings = []\n",
    "for i, text in tqdm(enumerate(df['text']), total=len(df)):\n",
    "    try:\n",
    "        embedding = get_embedding(text)\n",
    "        embeddings.append(embedding)\n",
    "        \n",
    "        time.sleep(0.1)\n",
    "        \n",
    "    except Exception as e:\n",
    "        print(f\"Error with example {i}: {e}\")\n",
    "        embeddings.append(None)\n",
    "\n",
    "df['embedding'] = embeddings\n",
    "\n",
    "d = len(df['embedding'][0])\n",
    "\n",
    "output_path = root / \"data\" / \"bsc_dataset_regplans\" / f\"embedded_icl_examples_{d}d.csv\"\n",
    "df.to_csv(output_path, index=False)"
   ]
  }
 ],
 "metadata": {
  "kernelspec": {
   "display_name": "Python 3",
   "language": "python",
   "name": "python3"
  },
  "language_info": {
   "codemirror_mode": {
    "name": "ipython",
    "version": 3
   },
   "file_extension": ".py",
   "mimetype": "text/x-python",
   "name": "python",
   "nbconvert_exporter": "python",
   "pygments_lexer": "ipython3",
   "version": "3.10.12"
  }
 },
 "nbformat": 4,
 "nbformat_minor": 5
}
