{
 "cells": [
  {
   "cell_type": "code",
   "execution_count": 52,
   "id": "e0c7121a",
   "metadata": {},
   "outputs": [],
   "source": [
    "from pathlib import Path\n",
    "import sys\n",
    "import os\n",
    "\n",
    "root = Path.cwd().parent\n",
    "sys.path.append(str(root))"
   ]
  },
  {
   "cell_type": "code",
   "execution_count": 53,
   "id": "a2b58575",
   "metadata": {},
   "outputs": [],
   "source": [
    "from src.config import config\n",
    "\n",
    "config = config.get('cluster', {})"
   ]
  },
  {
   "cell_type": "code",
   "execution_count": 55,
   "id": "15bb7adf",
   "metadata": {},
   "outputs": [],
   "source": [
    "ICL_path = str(root / \"data/regplans_ner_data/all_regplans_icl.txt\")\n",
    "\n",
    "with open(ICL_path, \"r\", encoding=\"utf-8\") as f:\n",
    "    content = f.read()\n",
    "\n",
    "all_ICL_examples = []\n",
    "\n",
    "for example in content.split(\"---\"):\n",
    "    all_ICL_examples.append(example.strip())"
   ]
  },
  {
   "cell_type": "code",
   "execution_count": null,
   "id": "c2fafb12",
   "metadata": {},
   "outputs": [],
   "source": [
    "# TODO: Try the embeddings from OpenAI and compare them to those from BERT\n",
    "# TODO: I think one can specify the desired dimensions for the embeddings\n",
    "# TODO: Implement HDBSCAN "
   ]
  }
 ],
 "metadata": {
  "kernelspec": {
   "display_name": "Python 3",
   "language": "python",
   "name": "python3"
  },
  "language_info": {
   "codemirror_mode": {
    "name": "ipython",
    "version": 3
   },
   "file_extension": ".py",
   "mimetype": "text/x-python",
   "name": "python",
   "nbconvert_exporter": "python",
   "pygments_lexer": "ipython3",
   "version": "3.10.12"
  }
 },
 "nbformat": 4,
 "nbformat_minor": 5
}
