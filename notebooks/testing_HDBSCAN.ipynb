{
 "cells": [
  {
   "cell_type": "code",
   "execution_count": 34,
   "id": "e0c7121a",
   "metadata": {},
   "outputs": [],
   "source": [
    "from pathlib import Path\n",
    "import sys\n",
    "import os\n",
    "\n",
    "root = Path.cwd().parent\n",
    "sys.path.append(str(root))"
   ]
  },
  {
   "cell_type": "code",
   "execution_count": 35,
   "id": "a2b58575",
   "metadata": {},
   "outputs": [],
   "source": [
    "from src.config import config\n",
    "\n",
    "config = config.get('cluster', {})"
   ]
  },
  {
   "cell_type": "code",
   "execution_count": 36,
   "id": "98cf2892",
   "metadata": {},
   "outputs": [],
   "source": [
    "import pandas as pd\n",
    "import numpy as np\n",
    "import ast\n",
    "\n",
    "df = pd.read_csv(root / \"data\" / \"bsc_dataset_regplans\" / \"embedded_icl_examples_1536d.csv\")\n",
    "df['embedding'] = df['embedding'].apply(ast.literal_eval).apply(np.array)"
   ]
  },
  {
   "cell_type": "code",
   "execution_count": 37,
   "id": "919aa480",
   "metadata": {},
   "outputs": [],
   "source": [
    "embeddings = np.vstack(df['embedding'].values)"
   ]
  },
  {
   "cell_type": "code",
   "execution_count": 38,
   "id": "12cf0e7c",
   "metadata": {},
   "outputs": [
    {
     "name": "stderr",
     "output_type": "stream",
     "text": [
      "/home/vscode/.local/lib/python3.10/site-packages/umap/umap_.py:1952: UserWarning:\n",
      "\n",
      "n_jobs value 1 overridden to 1 by setting random_state. Use no seed for parallelism.\n",
      "\n"
     ]
    }
   ],
   "source": [
    "import umap\n",
    "\n",
    "umap_reducer = umap.UMAP(n_components=30, random_state=42)\n",
    "\n",
    "embeddings_umap = umap_reducer.fit_transform(embeddings)"
   ]
  },
  {
   "cell_type": "code",
   "execution_count": 39,
   "id": "bdab084f",
   "metadata": {},
   "outputs": [
    {
     "name": "stdout",
     "output_type": "stream",
     "text": [
      "Number of clusters: 34\n",
      "Number of noise points: 745\n",
      "Percentage of noise: 31.4%\n"
     ]
    },
    {
     "name": "stderr",
     "output_type": "stream",
     "text": [
      "/home/vscode/.local/lib/python3.10/site-packages/sklearn/utils/deprecation.py:132: FutureWarning:\n",
      "\n",
      "'force_all_finite' was renamed to 'ensure_all_finite' in 1.6 and will be removed in 1.8.\n",
      "\n",
      "/home/vscode/.local/lib/python3.10/site-packages/sklearn/utils/deprecation.py:132: FutureWarning:\n",
      "\n",
      "'force_all_finite' was renamed to 'ensure_all_finite' in 1.6 and will be removed in 1.8.\n",
      "\n"
     ]
    }
   ],
   "source": [
    "import hdbscan\n",
    "\n",
    "clusterer = hdbscan.HDBSCAN(min_cluster_size=15)\n",
    "\n",
    "cluster_labels = clusterer.fit_predict(embeddings_umap)\n",
    "\n",
    "# Analyze clustering results\n",
    "n_clusters = len(set(cluster_labels)) - (1 if -1 in cluster_labels else 0)\n",
    "n_noise = list(cluster_labels).count(-1)\n",
    "\n",
    "print(f\"Number of clusters: {n_clusters}\")\n",
    "print(f\"Number of noise points: {n_noise}\")\n",
    "print(f\"Percentage of noise: {n_noise/len(cluster_labels)*100:.1f}%\")"
   ]
  },
  {
   "cell_type": "code",
   "execution_count": 40,
   "id": "1661f54e",
   "metadata": {},
   "outputs": [],
   "source": [
    "from sklearn.manifold import TSNE\n",
    "\n",
    "tsne = TSNE(n_components=2, random_state=42)\n",
    "\n",
    "embeddings_tsne = tsne.fit_transform(embeddings)"
   ]
  },
  {
   "cell_type": "code",
   "execution_count": 41,
   "id": "a80dd7cc",
   "metadata": {},
   "outputs": [
    {
     "data": {
      "application/vnd.plotly.v1+json": {
       "config": {
        "plotlyServerURL": "https://plot.ly"
       },
       "data": [
        {
         "hovertemplate": "color=0<br>x=%{x}<br>y=%{y}<extra></extra>",
         "legendgroup": "0",
         "marker": {
          "color": "#636efa",
          "symbol": "circle"
         },
         "mode": "markers",
         "name": "0",
         "showlegend": true,
         "type": "scattergl",
         "x": {
          "bdata": "aH3uQWl280H9JexBkqntQVlN6EG5s/NBhfPmQZF58kHKw+ZBCvnmQTgl7EG5s/NByB/qQRse8EEzjOxBM2buQYbv8EGjte5B",
          "dtype": "f4"
         },
         "xaxis": "x",
         "y": {
          "bdata": "1t4vQqY4JkLE/jlCjAksQtBfOkKNhyxCNhA7QrJ3LULMTDxCy5IrQv/6OUKNhyxCeKA9QoVhLUIpMj1CcQYrQgpCKkLhljxC",
          "dtype": "f4"
         },
         "yaxis": "y"
        },
        {
         "hovertemplate": "color=13<br>x=%{x}<br>y=%{y}<extra></extra>",
         "legendgroup": "13",
         "marker": {
          "color": "#EF553B",
          "symbol": "circle"
         },
         "mode": "markers",
         "name": "13",
         "showlegend": true,
         "type": "scattergl",
         "x": {
          "bdata": "XZYRQti3EkIvWw1CCqbtQVUQC0KAbx5C6MAEQiSRxkHrpSNCSH0vQraXFULmBSxCEekjQtj0I0LqAh5CH98RQufDIELZ6wJClvEjQutvFkKU8xhCrTvXQWYRAkLrbxZC2af0QafsGELCJBtCZWkIQl87EkJImwZCtu3qQUCKL0K7095Bt9XqQZqF/UExgDBCNjTrQUDQHEIa6gFCDrYNQpZfLEKUiC9COqQdQsbX60FCUCFCt9XqQSIX3UELsRxCEIn9QQW2DUK31epBBDAGQit2J0IXYgVCaF4gQjbY60GFNglCGuoBQsbX60GWXyxCp9LeQW/NGULI+vxBOqQdQiIX3UF7XyxCO5kbQhhl/0Eb1h9CRMYsQpqF/UE0sxlCgQskQvZqHkLTxh9COqQdQmUoG0KfTR9CV8AaQg==",
          "dtype": "f4"
         },
         "xaxis": "x",
         "y": {
          "bdata": "yZ75QZt08EG9phdCD3qlQW91/EHgXexBj3H9Qb2vG0LQZPVBzgLaQWjW+UFNpQJC4dQHQqV/7kGRC/1B+dIEQtrD/UHHQAFCm8IEQrCU70EqjehB3ikQQloXEUKwlO9BVOj3QbBT6EFPgdlBxYoAQvyw40F3Mt9BEOP6QV/z20GsuhBCAW8FQveMEEKC8gJCAqvpQXa9CEKaqPxBpfcXQl57BUI28ttBiw8EQrQE7UHRIv1BAW8FQlqgEEJIdQtCl9YQQqL3F0IBbwVC05bjQR4Nw0Ha1ehBeQkEQq8E7UFr1vBBmqj8QbQE7UFeewVCVLsQQirPBkLM1BRCiw8EQlqgEEILewVC9PsHQlE+EUKpgAZCiPcIQveMEEK7iwhCnQAHQvAaCkL3iAZCiw8EQpHWA0IqqwpCHI0KQg==",
          "dtype": "f4"
         },
         "yaxis": "y"
        },
        {
         "hovertemplate": "color=-1<br>x=%{x}<br>y=%{y}<extra></extra>",
         "legendgroup": "-1",
         "marker": {
          "color": "#00cc96",
          "symbol": "circle"
         },
         "mode": "markers",
         "name": "-1",
         "showlegend": true,
         "type": "scattergl",
         "x": {
          "bdata": "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",
          "dtype": "f4"
         },
         "xaxis": "x",
         "y": {
          "bdata": "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",
          "dtype": "f4"
         },
         "yaxis": "y"
        },
        {
         "hovertemplate": "color=20<br>x=%{x}<br>y=%{y}<extra></extra>",
         "legendgroup": "20",
         "marker": {
          "color": "#ab63fa",
          "symbol": "circle"
         },
         "mode": "markers",
         "name": "20",
         "showlegend": true,
         "type": "scattergl",
         "x": {
          "bdata": "7gqtQYPJ00HPUdVBHc/NQUl30UHnys1BCszKQculzUFdsZtBfm++QSSLx0EE7KVBJwaOQbbUDkLCm+VBJm2mQeRuukGmwd9Bqr7lQVkLykGkZ+tBvzTnQWaz4UGJh6hBcg6mQRvK0EFD18BBzg6TQdSnukERlMRBm3vmQfRQqEG0g8NBB3DmQWA+qUH7wsZBZHqlQZVStUHOmdxBIJHGQQMizkGIUo9BRx3VQSwCykFSP6lBOITIQRkW2UHwFMRBsy4iQRTTDkIQ58VB06+mQbaepUE=",
          "dtype": "f4"
         },
         "xaxis": "x",
         "y": {
          "bdata": "x86kQC6Um0CDbINARlHZP1c3kkC8rB3BgY+EQDZPHMGYv6tA/R8oQDJIBcEDZag/YSd0wZFwwkBs0xdACD2NQCW1JcHlBK0/WPMwP8I8Ej8BN48/hSQHv3z/XsARU42/VHyCQByxpr/7I5W/uzRDQEPGFD8vLIc+QBUgwTwhkb/JuabAis4fwcQBhEDYbWQ/ogqFQCIniUBzQBjAcBoEPoLVRcAKlDRArYVFv+iDFT/GBIRANAA1PgjRVb8ZmxM/EjWQQMNmwkCd5V4/wGWNQP+2QUA=",
          "dtype": "f4"
         },
         "yaxis": "y"
        },
        {
         "hovertemplate": "color=8<br>x=%{x}<br>y=%{y}<extra></extra>",
         "legendgroup": "8",
         "marker": {
          "color": "#FFA15A",
          "symbol": "circle"
         },
         "mode": "markers",
         "name": "8",
         "showlegend": true,
         "type": "scattergl",
         "x": {
          "bdata": "M/XtQe+s70GCDf5BUbLhQZ1fBkKEjeBBirAUQmXZ70ElxdZBvhfwQY2yFEKT0eBBxr3nQXShCEJIg/1B5lPkQc4T9UF7bgZC02PpQcmRCULKWetBAqEIQqta60ElafdBLTTaQZdY+kFUNxBCRlD6QYzH+kF+UQRCHe3/QX5X/kGreAJCKnsDQootDUJu8QZCvGwDQjm8/kGp8v5BDKL9QVJE/UE=",
          "dtype": "f4"
         },
         "xaxis": "x",
         "y": {
          "bdata": "tN4cwnj4IsL4cB3C5+cRwspMFsKQlR3C9YMMwmZ2EsLjIhfCyYoiwu55DMIY6xLCQpcWwpL2LMJOxRzCupkcwm+DEcJo0hfCm+AZwnIeHcK0zhrChPgsws7IGsK7RwXCZBMawjOSI8JrWxHC9Y0bwj9lFcLlvhbCdLwcwiFTGMI7pxLCiVMZwlahE8J08hXCbqEIwnyjD8LitArCL88KwlQmDcI=",
          "dtype": "f4"
         },
         "yaxis": "y"
        },
        {
         "hovertemplate": "color=19<br>x=%{x}<br>y=%{y}<extra></extra>",
         "legendgroup": "19",
         "marker": {
          "color": "#19d3f3",
          "symbol": "circle"
         },
         "mode": "markers",
         "name": "19",
         "showlegend": true,
         "type": "scattergl",
         "x": {
          "bdata": "i/8eQlhfH0ImzSFCaHkPQllMD0Lh3BZCFUQ0QqNLMUK0BC9CNQwUQt5zNkLhqh9CL2wjQqx/EkJlNBJCHLoYQiYjN0KF/jRCHUwxQul9F0KMRk9CFtMuQlkIMEK9sBBCXAxOQq29BkIy2y9ChyA1QiYQSkJEFAdCJ+sGQmLwDkLXnklC6HtNQlriTkI+oh5CNr4sQs+1J0KvMipCvOobQpVX9UGYPTBCIkA3Qll0B0J70BZC+X9IQhvqAEKmZv9BdtAWQmRrT0JKGx5CVxseQgJgSkJU9h5CSeogQl4bLEIrf0hCW6cQQhjuREIt/ElCkiEEQlY7M0Kk5kFCEm9JQvEWQkJUGyxCNS41QlQbLEKWjz5CYLYtQtPKMkKHETNCjownQmE8JEIMohBCi3ktQg==",
          "dtype": "f4"
         },
         "xaxis": "x",
         "y": {
          "bdata": "Ji1KQbTJr0DOrANB2W0+QSL9SkFRIkVBMVYjQVpcF0HhvChBU3GAQfM2KUHSm69Af0BVQRY7gEHFAnRBNdA7QUc9K0Fic05BuVoXQdURQkHLDxxB9XBQQPCVckC102FB5fcRQXLwCEFf0apACilPQSTGdECqwGRBtsYJQUMOTkH5CaVAZ5kYQb/oG0HCPkxBAHEcQfDgLkFe7i5BihVfQUHg4L93kS1BUk/SQOwKY0HOdg9B2D6oQHquQMDkCeq/7nYPQcheIUFPwv9A0MH/QIXDqUBEna5AcdM1QWgMhkFVDqlA5TKOQbU5x0CdG7FAs4k6QVogj0BlXNI/0ryyQF+J0j9YDIZBw2UAQVgMhkFt6phAzywLQQtdkUDJOhNBFyzBQZGdZUEHV45BrICxQA==",
          "dtype": "f4"
         },
         "yaxis": "y"
        },
        {
         "hovertemplate": "color=16<br>x=%{x}<br>y=%{y}<extra></extra>",
         "legendgroup": "16",
         "marker": {
          "color": "#FF6692",
          "symbol": "circle"
         },
         "mode": "markers",
         "name": "16",
         "showlegend": true,
         "type": "scattergl",
         "x": {
          "bdata": "hbY6wI3JTcDrnum/YWOav4iL/785hezA5qtDwE1pR8BLU+W/bd7gv6PAzsGrtNHAWeMfP7nJvr+JuFbAp86Nv/xxib8bcIK/JZvLwI/OjMAB7V3A4p6GwNkpeMCyBeo/twcswlj6Hz7m2crAoqXpwEGMv8BxT8zAbAbqPzVOmMB7myc+9NoAwJF/zsGIg6Y/WsfpwUwG6j99eC6/gG6kv7kehb/NVoa/LKQ4wN3AAEE=",
          "dtype": "f4"
         },
         "xaxis": "x",
         "y": {
          "bdata": "HhFgwWaygcG83WXBKkVmweZiTsEZpXjBzThDwc5DdsEMjGTBJ2VkwQ/4osGbPXzBI4FwwYblasHSiILBTxE6wcOLOsFsMHDBedODwcUJZsFzVnjBGRSKwYjbQcGC2S/Bjvm+wUh7dMHYGIXByEd/wfwLjMEU/oPBqdkvweWWN8GJrS/BpU+Kwb3vosEqKW3ByCS+wRLbL8FolFbBuoFRwSvpIsHFuXzBei8owbwd6ME=",
          "dtype": "f4"
         },
         "yaxis": "y"
        },
        {
         "hovertemplate": "color=10<br>x=%{x}<br>y=%{y}<extra></extra>",
         "legendgroup": "10",
         "marker": {
          "color": "#B6E880",
          "symbol": "circle"
         },
         "mode": "markers",
         "name": "10",
         "showlegend": true,
         "type": "scattergl",
         "x": {
          "bdata": "Pv1ownJfXMKHKVTCHupjwoUrYMLmYj/CnKE/wk9qWsJba0fCO6JhwgPoPcIq7jzCXExFwjsqYsJ6SGHCSgJDwmvHVsIqy1jCkm9bwjfLU8LGY2LCYkhhwrObPMJpcl7Cpcg0wuHYZMJUCTfCf7FVwhCTP8LJ30TCH6hPwktjRsLNbDjCnRZVwuAaOMIv1GDCM8VTwqIiY8I0wWfCzm1VwlF9a8KfHWzCZvRjws1gYcL2F0/Cca81winiM8ISzWPCS1dMwu8sSsITd0vCRcI7wia5Q8K4rU/CdKU3wgCZQsLSZVjC/QZHwoIVUsKkFlfC051JwvZvXMLarE3CqlxlwrHcacKUHlvCq7xewlzKUsIJkkzCb/ZAwkyGTMIbA0HC",
          "dtype": "f4"
         },
         "xaxis": "x",
         "y": {
          "bdata": "35KTQCP9qkCADiFBM7e9QHqSjECz1ONAcxb6QPDC+EBEauVAd79BQOGABUHlOQ9BpKYEQVYMpED/16NAUXzvQBacFUAkK+k/V2bFQBAIwkCPQA1B+dmjQO833kAxZzRBwBUCQew8hUAdIgFBgv8bQcU1BkGhuwJB85bHQI+QC0GjTyhB6NuaQHUkLEGBe9BAKm/eQKqGukCkrr9A6vekQFjU5UCLvupAfigZQcpjZ0D5gf9AW0qjQJTcwkC6KHNAsfYvQfh5iEDD8qBAaVSEQPQNkkAlZqNAs0iWQMuIikC3qh1AI/O3QAEy2b7sKRNBpOp2P4It4EASrPxA9ryjQHjhNUBUOYdAOg6qQOOAM0BxnztAH04RQBpAOkCJKhFA",
          "dtype": "f4"
         },
         "yaxis": "y"
        },
        {
         "hovertemplate": "color=30<br>x=%{x}<br>y=%{y}<extra></extra>",
         "legendgroup": "30",
         "marker": {
          "color": "#FF97FF",
          "symbol": "circle"
         },
         "mode": "markers",
         "name": "30",
         "showlegend": true,
         "type": "scattergl",
         "x": {
          "bdata": "sMmyv7uXAcBXi6i/08muwUOfKMBclr6+TAIIwNN7GcCxKgS/SoWsv5/2DcCOZQU/7rSDPrxKBMBwdIY//MIywBoCMsDM24E/ihOvwMC2qMA8ujI/77cswC0ZqcA=",
          "dtype": "f4"
         },
         "xaxis": "x",
         "y": {
          "bdata": "BNJMQe1o1kCMl0ZBV5hkQXpyBEG0MzpBrokQQQPZ0EAWklpBtIJPQWY7EEFBGCRBfqEnQUpMD0HXGuhAPAIhQWX3J0FPOOlAYvM3QaCKX0E6qCFB1dFTQcLKWkE=",
          "dtype": "f4"
         },
         "yaxis": "y"
        },
        {
         "hovertemplate": "color=12<br>x=%{x}<br>y=%{y}<extra></extra>",
         "legendgroup": "12",
         "marker": {
          "color": "#FECB52",
          "symbol": "circle"
         },
         "mode": "markers",
         "name": "12",
         "showlegend": true,
         "type": "scattergl",
         "x": {
          "bdata": "TsnsQdMZ9UHg2q5BxpHfQWr0wkHhZOBBjevbQe9d9EEFGRdCmfv2QbPt40FYNbRBSmEUQmLU9UEoqrRBnOvbQdn/A0LWyexBNXqwQfE5tEEkqrRBX8WDQRMzxUHvp8BB5MOvQdIfjkEuKblBEG2GQWr0wkEyZn9BvNHSQdX2mj8uTPZB4AzJQSV5xEEZ+J9BR5etQUCu2kHWyadB5V2sQQhyB0JCF6VBhWnZQftdtEGG0dJBOZypQdC2pkGqwvlBPt6mQWwfmkHCj6VB4DatQSnb9UH60qZBpt2rQTV2okFQl6FBhhLPQYfK9EHCAMtB9IvLQdta1EGOm/RBl5+EQTNQy0Gs7NZBRX+2QSCvuEEPhd9BrFO3Qc7O4UGeHkhB6CTvQZHuwkGVCQNC9c2gQXy3AkIwI9hByT2fQXsP80HFw6ZBmlOkQSMfsUEK0wVC/QDcQfCOmkHVB7pBE96rQQiYeUHwnq9B0oHMQRuno0G2p7NBITa0QWsSz0GVE8lBoADLQZfDr0GiXrxBRJDLQUITzkEceMFB+ee0QZ6FJUFnDclBeNXHQTxu10HyDtZB/hTcQd1Jv0GX/L9B0qfRQWt5pkE=",
          "dtype": "f4"
         },
         "xaxis": "x",
         "y": {
          "bdata": "AC/bwfHs2cHXjnXBT+jYwYPI1sGxs9rBYvHTwakcm8EMusnBr8qlwfY04sGYnNLBilHMwcr6pMEqCt7BI/HTwWJEq8HGLtvBXNlqwaud0sEuCt7Ba7a+wRXe5MGgtMvB4ITLwcTSdMH8RMnBFhepwYPI1sGWi73B0Kr7wW+uyMDV+qXByrPwwQJE88FvBdzBuyPywXEFzMHiuoLBS1buwQBF7sFAdtrBI/LPwe4O9sGBqvvBZUvxwa9w7MG6TJjB6d7rwQMdlsE8hfDBL+DkwWNGl8HlS4XBLJK9wUqHzsF6wL/BvuylwZVdmMGEvanB3s6xwV6zn8Hzd5XBHMe+wRmQ/sEkZpLBv9DkwUyJ/MFWs83BJDT8wWYHzsGfkpTB3QrrwRhh8MEg1crBm8Wtwc3qzcH0FNvBpYIAwgszpsEDpofB44+4wTG4/8G1ALTBVoK5wbj5tcGBFSfBhJG9wVnAnsGbQKjBNy63wTCyucFQeaDBw5zSwb3spcGKrpzBVb6pwa6Gy8E8np7BYtGxwZdQvsE6kqvBmyalwX7Zt8FotPDBZM7qwV92qsECHP/BY12qwdaRwsAlRNLB7f7twfaRj8E=",
          "dtype": "f4"
         },
         "yaxis": "y"
        },
        {
         "hovertemplate": "color=23<br>x=%{x}<br>y=%{y}<extra></extra>",
         "legendgroup": "23",
         "marker": {
          "color": "#636efa",
          "symbol": "circle"
         },
         "mode": "markers",
         "name": "23",
         "showlegend": true,
         "type": "scattergl",
         "x": {
          "bdata": "yzQUwmeCE8IYpbW/S/8YwhTuM8E6lea/3ZgWwrTHYcCDohnCJsYYwqzHFsJ2sRjCnzUSwhGSI8IJvtW/u58cwheDFsICOBvCGNMPwph1NMITyGHAo8sgwgt1GsJqKhbCQMoHwvHfB8LD5RnCY4UewrFWKMKWhRrCbucfwhFBFsIWfhvCjwAdwnBYHcJrdx/CRlo6wJAuEMKlLTfCgnIMweDAHMI=",
          "dtype": "f4"
         },
         "xaxis": "x",
         "y": {
          "bdata": "WHs9QKMMR79XkWnAZeImvbN4T8GlIP3AOFVjQcsMh8DKs4S/l+gWPQPAxD9OVQy919f0P6ChH0Fz/wHB6YYvQSzGY0HM1oZBRQlIQdN/kUEXDYfAew0dQX33g0GXZrI/7JtqQa+nakFWXwlBAC5EQSM4T0FiBjZBge4eQf1UPUGWTRpBu0N9PjpSGD6qS3k/4CrtwBYDJEBxLlxBvXU1wdUuU0E=",
          "dtype": "f4"
         },
         "yaxis": "y"
        },
        {
         "hovertemplate": "color=14<br>x=%{x}<br>y=%{y}<extra></extra>",
         "legendgroup": "14",
         "marker": {
          "color": "#EF553B",
          "symbol": "circle"
         },
         "mode": "markers",
         "name": "14",
         "showlegend": true,
         "type": "scattergl",
         "x": {
          "bdata": "dr9YQqMXW0IncV1CkXpdQoM5YUKsdFxCg7deQrhIW0K4SFtCKp5iQvZQZUJc71lC8lRmQkmvZ0I/P2ZCOO9ZQuFZaEJuXGtCs9BiQuqkakKzomhCD/tlQhztZkIdFmBCAr5jQsJSYkInymZCJT5nQgkkZ0I=",
          "dtype": "f4"
         },
         "xaxis": "x",
         "y": {
          "bdata": "b9hAQGWR+UAsFP9AiFvuQAp47UDsZRhBKKcIQcQExEDEBMRAHubIQBUN10BKB9BA0S4AQeY27kAQ5N1AHwPQQG2D00BMeNFAB/fMQFAnxUBX7bFAhTOsQMZ+vUCE5RVBBeoRQYwHEkELAxNBSLksQQ4TF0E=",
          "dtype": "f4"
         },
         "yaxis": "y"
        },
        {
         "hovertemplate": "color=17<br>x=%{x}<br>y=%{y}<extra></extra>",
         "legendgroup": "17",
         "marker": {
          "color": "#00cc96",
          "symbol": "circle"
         },
         "mode": "markers",
         "name": "17",
         "showlegend": true,
         "type": "scattergl",
         "x": {
          "bdata": "zXExwjEqHMKwaBzCppo8wrDkK8JmMlbC4bwnwmQlEcJ1XDXC0a41wkqKHMJu3TnChisRwo4YP8KurETCdkkXwuORD8J9Az3C6mg6wic9N8IIL0DCnGQ3woM5WMK2UDLC951GwlX6JsKxLyjCAQcCwrgJL8JeJiDC9kwowvnIJ8J0lwXCTC0QwlINKMK70STC5uMEwrs5McI9ukjC5TsCwv41RML9yUjCSPQhwn/U/8FFLz7Cjz0zwkFdEcIMtkfCMmsewsA7P8KVfxDCFrE3wlrUPsLdrz/CAysmwmAoOcKZgx7Cvf0PwvujFMJm4yXC0EsWwqpUJcKWJg/CJudlwvZPT8J+Og7CS85CwpMgRML/m0/CfpNBwnrqZcJ9ag7CbwtMwgiWTcIptA3CyHAqwidTDcI63h/CCRIpwkDsCsKN5yLC3J8Kwo+jIcJFUzHCNqslwtDW+sHSyTHCREwpwlGWPMKnCzLC5HFCwjN8L8Jqjy/CYTsowr7uScJv6D/CF4FQwoFqMsJ/K1TCo7A0wqjMScKMSBHCIhAuwp8LCsKvBiTCSNAjwp4OKMJBpijCe0ItwpS3TMJmxDfCvXgPwt9jP8LIP0LCubBFwhUBQMLXVwHCwtMzwjqB7sFvdTLC3ZEQwt1B+sFIew7CbtllwiERQMJ0BxPCACkTwmPKWcI9N0LCN4YHwqIRWcI0DBrC07wQwjBGJMLSMxXCyrQWwuM2ScLCiR/C7x0BwmWuAMLGLwXCOvz1weLW9cF2ag3CcShGwiYkHcKbKB3C6aEzwim9ScK3cCHCrh8nwv6vLMJVRSrCbC9Hwr+9z0B6RFPCMe9Nwn0VWMJnMFjC+WZawse6WML18FLCHLFTwoXQV8KfKhLCt0xPwtLWVcJSThLCuY0jwsk5PMJ3yBPCRVE6whk+EcIQaRjCmxE3wiyKO8I4UTrCR/9QwhH7UsJ0BxPCTgITwjZPB8KceRXC82sVwvFcE8KLtRPCHF7RwbNk0sE=",
          "dtype": "f4"
         },
         "xaxis": "x",
         "y": {
          "bdata": "q765wV8SusGvxeHB6zTQwRBfwMHG3rjB/HW8wYw/vMEKMuLBZg/cwZ6nB8JkJ8LBJdm7wb/3yMEvCenBowi/wZLQIsLfoNbBfE7Jwfq96sGenqbBklm5wfGpvcHQ0IjB3CS3wc4E5MHFdd/BOXSQwTzapsG4rf/BrGHhwZZz4MHCUJfBUGsiwuK46MGqV+HB24aVwbybg8FTLrrBHSqQwf831cGX87/BObsHwjRVh8GTFrXBEimCwfH39cHIj6nBalS6wbh2tcGZ9frBEsWgwTj3fsF1AbTBtRmVwbVScsHbMfnB+FP3wYFxesETyAjCSCcAwg4WBcLXZfnBipq4wf/emMFN0/nBI5K+wb9drcGdipfBPl2swSeouMElgHfBRonHwd1Tn8Gedm/Bmq/KwTTTb8E+SADCEqQEwj1uZMHsMAjCR7h6wVlk+sEJ5qPBeKIFwjUU48HnKwLCKc8IwkyRzcGeFALCGSDBwVD0GMJu9hjCg1kMwj6K2sGt7nrBkFcHwnL9jME+Na3Bv0bjwctosMG/pgzC9bakwVg3msHCMQrCRR7TwZjLksGERZDBJ0OAwdYytcGmQprBy4ShwYoNyMH+86jBP8iewVZxg8FxmMfBRBHjwa5s2MGS4eRBionkwTDo4sG6VSPCMfq2wcfJmcFTKAPCy4nJwdYzo8GNA6LB2XnLwcGbpMFRVorB1mfgwaAplcFSyUfBzvy/wUQ548Hn+uTBCh+lwf7kpcGsUZ/Bn88BwlPcAcIXQJXBIyzKwUAbaMF4wmfB3yxrwSj55cF7SwnC3CIDwnXjg8HxVwnCF4LmwUC9XsLUiO7B8S3nwaTH48HaveLBRvPkwTaW68HkPezB6OTtwUwd6MHrmpPBEezowd288MHTEJTBHXAOwlk4CMKJb5DB4aEIwt3ckMEmNJjB2u3rwT5XCMLyoQjCVs4GwvZFBcJTKAPCHa3HweZBy8FAuqjBrY2nweYrmsGkeqTBPdwcPyqQBj8=",
          "dtype": "f4"
         },
         "yaxis": "y"
        },
        {
         "hovertemplate": "color=27<br>x=%{x}<br>y=%{y}<extra></extra>",
         "legendgroup": "27",
         "marker": {
          "color": "#ab63fa",
          "symbol": "circle"
         },
         "mode": "markers",
         "name": "27",
         "showlegend": true,
         "type": "scattergl",
         "x": {
          "bdata": "xebBQItR+0CDCN1AsE+aQB4XF0EaPLNAT3MZQavUBkHXiQdBBQqdQG41c0DIxspAM6wGQbVBJEHkksFAjN4MQbTnBkEXnxxBYrTcQGRMtkD9g/FALgqdQFg1c0BO6cpA",
          "dtype": "f4"
         },
         "xaxis": "x",
         "y": {
          "bdata": "MPsYQpFlEkK4nA1CD5gZQkimGULKFhpCmV4iQmw3DkKpNhtCEqMiQv7QLULcmSpCl2EPQmeMGULAmBlC2PcPQpITC0K1zCJCoaQaQmCOFUKwSSBCKKMiQqLRLUJXlCpC",
          "dtype": "f4"
         },
         "yaxis": "y"
        },
        {
         "hovertemplate": "color=1<br>x=%{x}<br>y=%{y}<extra></extra>",
         "legendgroup": "1",
         "marker": {
          "color": "#FFA15A",
          "symbol": "circle"
         },
         "mode": "markers",
         "name": "1",
         "showlegend": true,
         "type": "scattergl",
         "x": {
          "bdata": "Uxk8QlMZPEIOZTxCD448QjhZKkKxgC1Cdaw3QtIACELDVitC8WozQur3K0INyC9CZw4rQnY9MkLHai1CqL0tQgUHMEKQBS5CUt8qQqwiMUIMUCRCXbMkQu7EMEKiDipC5L4vQtBvNELS2y9C5Gc0QhQ6LEL55jJCBustQugLMkI=",
          "dtype": "f4"
         },
         "xaxis": "x",
         "y": {
          "bdata": "OCROwTgkTsHkRE3ByY1LwZd4gMEWhKDBEEqxwZNRqMEY4afBvBCbwVramMHYqpvBu6Wjwf3Fl8GLS6rBGKuWwaEPlsGGYJ3BSVecwakFn8EmgpTBBcunwT/yocESRaDB89SlwQsro8ENVKvBb56ewaINtsGmp6XBZ6akwQiAqcE=",
          "dtype": "f4"
         },
         "yaxis": "y"
        },
        {
         "hovertemplate": "color=5<br>x=%{x}<br>y=%{y}<extra></extra>",
         "legendgroup": "5",
         "marker": {
          "color": "#19d3f3",
          "symbol": "circle"
         },
         "mode": "markers",
         "name": "5",
         "showlegend": true,
         "type": "scattergl",
         "x": {
          "bdata": "uN9IvakkTD+pJEw/Rdv5v8T7nz+pJEw/SDnoPq+EGr/DYSe/r4Qav7x1PECvhBq/IPcav7x1PEA3xy0/GS0sv81n8r/n1irCtGEnwunYHcCdyi0/hY/fP0/s8j+8dTxAEAd/v969mUDLfQTARMCZQKVU3T+XA7s/N0AlwkX2IcJhbiXCY9XyPw2kPUCr+j9AlEGhPvRi3r8Il90/b9grQG/YK0A=",
          "dtype": "f4"
         },
         "xaxis": "x",
         "y": {
          "bdata": "guhIwm6KTcJuik3CEZVXwvtNTMJuik3CIxZYwg2wYcIQR2PCDbBhwh7+ZsINsGHC4q9hwh7+ZsKoEWvC2MRZwpoWV8LcW3RBfNl+Qet4W8KA8GrCondbwrUOV8Ie/mbCsfFnwgSlQsJ1imPCoqhCwq5vZ8LuYWPCTouBQVyWhUHzdoFBH2VdwssvX8LlLl/Cn+piwschW8JrwFfCzHxuwsx8bsI=",
          "dtype": "f4"
         },
         "yaxis": "y"
        },
        {
         "hovertemplate": "color=4<br>x=%{x}<br>y=%{y}<extra></extra>",
         "legendgroup": "4",
         "marker": {
          "color": "#FF6692",
          "symbol": "circle"
         },
         "mode": "markers",
         "name": "4",
         "showlegend": true,
         "type": "scattergl",
         "x": {
          "bdata": "pz8hQttOA0J3XQtCerUGQnlwCUKP0whC2o0RQo4AH0IoagZCHesNQgKnDUJcAB9Ckf0XQshYE0JGkAdC7XkHQoEEBUK+/RdCkLAWQtu/DkIzPQVCVQAfQo79F0IsKhJCUckOQmUzCUK8jk1CpJ4TQkkZFEK+LQxC/6MFQuRcSELceQxCnfgJQkVTEUJJjv5BQxIMQpCZEUKx+w9Cl6AJQk8QEkLgQgxCctwLQmEvD0KV8g5C3GwMQnqsCUIu1A5CQacNQjq/EELFPRNCC0oRQkimSUJPpklCSKZJQg==",
          "dtype": "f4"
         },
         "xaxis": "x",
         "y": {
          "bdata": "OXKgP2MoKcDzTDS/tMH3vMkt9T9xOAm/yXhgwO3s7z86TPI/0CoBv0i7TsDFEvA/yQDAwIX5NsCBoSBAJIJnPztUsj8sAMDA4dYywADm1D4PQhc/XRLwP7QAwMDmhGA9W5WIPxJ4qT9JQZBBTQIgP/GGpD8rKB8/hfeAwM1Lk0ENkz1As9AyQLv93r/SAXJASmwNQL93IkCKTk6+zK4xP/caIsAqYJM/AkLQPzuYOEBfldU/aS9mPao0xz2RiQlAlb1OwPZzSD9UcAFA+kjAP8s1jEGANoxByzWMQQ==",
          "dtype": "f4"
         },
         "yaxis": "y"
        },
        {
         "hovertemplate": "color=31<br>x=%{x}<br>y=%{y}<extra></extra>",
         "legendgroup": "31",
         "marker": {
          "color": "#B6E880",
          "symbol": "circle"
         },
         "mode": "markers",
         "name": "31",
         "showlegend": true,
         "type": "scattergl",
         "x": {
          "bdata": "w5wiQTU22sG+hmPBpkdjwR2Bl8GGv5XBShrRwDNdwsFTttTA3oHLwdNc0sEZJtbBl3pLwRxc6ECqgNHB+qGVQELVxcFlS3fBFjBJwf8Sd8EmaJDBoP28QMXYskCDcBRBgjgYQbTemMHxe7PB8BmkwdILmMH1YrvB+Gm5wVExo8FyxWpA2jWGQGbYp8FjnYDBuWzIwRh+rsHqjbHBP5MqQcm0MUF8shxBjPlYwY8+i8F4n0VBLHGxQFHkHkHCW5zBuGVqwaSbP8F4RTzBWVbFwYMXX8GodtjBfYypwRJBmcE35YDB5/aSwfEeWcGoaYzBQpAevwPPK8He0rjBO9gUv+JlpcEYFxi/Xeu/wWMGVsFnNL7BolyZwSHQj8Gft43BzcKJwWZDJsFQNpzBbBLZwehG2sGcBCPB/D9gwXs4hcG2RqLBXiG4wcWEQMEvXdq+lVeWwSq4asEtB2vBT7erwfMZq8FA0I/BpLaNwW7smMH5K5rBPiqawQ+qm8HdF5JAKSWUwTj0lMFz6INALlaZwY9oj0AbFNXBVDumwbCnpkC/Q/FAmsnKwfzTc8FjeHvBkyR/wa+2tsFrmo/BWbSDwVoaYcEx0H0/1+uDwQ==",
          "dtype": "f4"
         },
         "xaxis": "x",
         "y": {
          "bdata": "fF6IQfaNSkF+GNFBTH9JwNGxrT9vDpU/w4ZMv0kHOkEKmGa/lotQQeUbb0HkQz9BRZhPwAr770HGIVJBKe7RQVZRd0Fco60/jwxXwBaCuD/qbD5B5rH/QTQ97UF5zolBphwCQpF5MEEc36TAZR4EwOGjQkA/eSlB3vHTvhg9wsByw+xBg4/gQfRAuMAHvAjBGnMqQb5FL0C8sVjANx+QQfl1k0EGBZNBPix4v9eDRUC8l4ZB+3nSQQqvkUGVDJHAbGiuvwaEl8A+GYrAJj5EQfI+wUF0KDtBwRN0wGpES0FHTczAc9oGQJbZBMG2Po/ArJ0yQud49b+Rcig/Bo8yQqVcv8DVmDJCVAI5wCzbNcD9HSrAMI1FwEwINj/xZ5BAWyrFwOtuB8CuNnM/TowuQUdBq8DTzv6/0OqxwKJpJkD15i0/WR8PwHjG9b/2pJ5Bg5lQvrvVQUCUB0dAsHaIvxd9lb8cCTY/9GWQQGCYSMAfXfDA3V/wwNaa6MDIB9FBrWcQwU3PMEFfislBXtv6wCDUu8DiZADA3pC7P7y11EHs3/BBdG/8Pj48ycC3KsnAg4H3wBKUKz77LmVAg6kuweiWxUFjZ/9BjXwuwQ==",
          "dtype": "f4"
         },
         "yaxis": "y"
        },
        {
         "hovertemplate": "color=28<br>x=%{x}<br>y=%{y}<extra></extra>",
         "legendgroup": "28",
         "marker": {
          "color": "#FF97FF",
          "symbol": "circle"
         },
         "mode": "markers",
         "name": "28",
         "showlegend": true,
         "type": "scattergl",
         "x": {
          "bdata": "63clwXVxCsHJ6j/B4sVrwaD6Z8G1TDzBbeoMwXDld8EjHEzBAA1cwTbVUMHwkTnBp6CEwZgFhcFPuInBTUCEwY0chcELakPBBXUhwV09iMFSb1DB2KyPwQSFUMFJl23ByhdUwSo1I8ESuZXBgiOHwWaDeMH/2XnBa1xVweVAPsFH11PB8AVewQ==",
          "dtype": "f4"
         },
         "xaxis": "x",
         "y": {
          "bdata": "BvM9Qq53PELxuDVCvSMyQnEFKELrnS5CfzY9QhtgLEIDZDlCt3oxQjiMSELRjjVCqExBQiNsP0LyG0VC4fFBQgzlO0KeyDZCctA8QqIcO0IJ4S1Cu5NAQmWQSEL/XDNCsIorQkeSM0LAm0BC6ug8QqnlP0Lbp0RCu5s7QkLwNEJirDtC7mgrQg==",
          "dtype": "f4"
         },
         "yaxis": "y"
        },
        {
         "hovertemplate": "color=6<br>x=%{x}<br>y=%{y}<extra></extra>",
         "legendgroup": "6",
         "marker": {
          "color": "#FECB52",
          "symbol": "circle"
         },
         "mode": "markers",
         "name": "6",
         "showlegend": true,
         "type": "scattergl",
         "x": {
          "bdata": "Li9MQshcWkK87l5Cxu1OQtysWkLk6VtCbe5OQrlHWULW7k5CYWlGQrFjTUKxY01CexBPQpAvSEI96ShCwitbQkuKTEL36ShCzqBSQm6XUEJtJV1Cu0dZQk0LXUJ1sVtCYWlGQkH/U0JxL0hCQf9TQkH/U0JQ/1NC",
          "dtype": "f4"
         },
         "xaxis": "x",
         "y": {
          "bdata": "bsCDweMfqMG9LaLBlqqqwRWZqsGLlKvBsKuqwRA6kMEHrKrBElGrwWPmi8Fj5ovBTuWVwbj4mcEqgAXB5eWlwVMUk8ExgAXBAMWRwU4umcG1sKjBUjiQwdT8qcGQ3aXBElGrwUG4E8He+JnBQbgTwUG4E8FouBPB",
          "dtype": "f4"
         },
         "yaxis": "y"
        },
        {
         "hovertemplate": "color=2<br>x=%{x}<br>y=%{y}<extra></extra>",
         "legendgroup": "2",
         "marker": {
          "color": "#636efa",
          "symbol": "circle"
         },
         "mode": "markers",
         "name": "2",
         "showlegend": true,
         "type": "scattergl",
         "x": {
          "bdata": "D58tQljnOELW3UFCt9M6Qj2qREL5mz9CjxpCQgy/PkKCdjpCPyE7QhycREJSVUNCH2U/QuoQQUIoeyVCCRU8QjUgPkKUzD1CI2xAQih7JUJNij9CG2U9Qi2kQ0LGl0FCJZE8Qg==",
          "dtype": "f4"
         },
         "xaxis": "x",
         "y": {
          "bdata": "aGddwB4+88Bm/qnAa6CswOU7pcDSfInA/AKSwL+aaMCdkJvAbiSKwKG0kcBSDn3A7hzIwEtsbcAVbqHAu2C8wNjOucAOr5LAj5+bwBVuocD8wKvA1xOiwBBjuMCkw8LA+pp4wA==",
          "dtype": "f4"
         },
         "yaxis": "y"
        },
        {
         "hovertemplate": "color=18<br>x=%{x}<br>y=%{y}<extra></extra>",
         "legendgroup": "18",
         "marker": {
          "color": "#EF553B",
          "symbol": "circle"
         },
         "mode": "markers",
         "name": "18",
         "showlegend": true,
         "type": "scattergl",
         "x": {
          "bdata": "nbhKQB39TUAdaY0/L75eQEDjpUBVubU/XtYpQDm4gED+jxdAG5d1QFGctj9c7DA/N06bQPFUtD/qdGy/r/VtQA==",
          "dtype": "f4"
         },
         "xaxis": "x",
         "y": {
          "bdata": "j8FJQMijBsBf5GI/wRVSQHJKC8ApTNA+NkvyP4kmlL/m2Ko/4fmvvxD2AT8taew/LALNvyoQCz+QatA/DP+4vw==",
          "dtype": "f4"
         },
         "yaxis": "y"
        },
        {
         "hovertemplate": "color=21<br>x=%{x}<br>y=%{y}<extra></extra>",
         "legendgroup": "21",
         "marker": {
          "color": "#00cc96",
          "symbol": "circle"
         },
         "mode": "markers",
         "name": "21",
         "showlegend": true,
         "type": "scattergl",
         "x": {
          "bdata": "MGS4wAxqr8C2lMjAdkYHwVAYbMLs9RFBWHK7wKRUJsGcGKnADNuiwIJPkEBbur7AnP3ZwA8EosBDreXA9S+zwAi0ncHIfB7ASWjqwFeHtcDyVavA7ojqwARS7cCTI+7ApsjXwBVf+sABMOzAeg8lwRMGOsFJiqzA1JuPwKKeusA=",
          "dtype": "f4"
         },
         "xaxis": "x",
         "y": {
          "bdata": "Aai2wQwYwsFPX+nBn+TOwSC6CcAQ+arBkBbswW0448HcUcvBBS7Iwcf5jsFRnfHBXRbywWkVzMECBM7BT1LFwTJk6sHIV+/BEvHTwaXQ6sFGj7/BetD0wSX90MEbVPfBHA/dwd4b2sGp/NnB9/3iwTDb5cG3ScLBGTS/wdx568E=",
          "dtype": "f4"
         },
         "yaxis": "y"
        },
        {
         "hovertemplate": "color=15<br>x=%{x}<br>y=%{y}<extra></extra>",
         "legendgroup": "15",
         "marker": {
          "color": "#ab63fa",
          "symbol": "circle"
         },
         "mode": "markers",
         "name": "15",
         "showlegend": true,
         "type": "scattergl",
         "x": {
          "bdata": "VNLgQBI6a0HEeBpB6BG5QG1jOkEKfR9BAw6FQNGvkUAdYdBAPPkqQX2WaEFcbwBBdkWPQCJ+i0DcuQFBiae4QDyJPkEfPztBgcjfQJENdkFG0BtB8RgoQT5/JEEf8kFBFnsZQQ==",
          "dtype": "f4"
         },
         "xaxis": "x",
         "y": {
          "bdata": "pzUlwUloHsGGylHBEgg7wYWHU8FxHSPB/DdiwTDxFsECAyTBWH1kwVrf+cBc3DLBK1cXwaYkFcG7MzPBIeQ7wZT4LMF3kCfBWJFDwcm+ncEpriPBkwJgwVgcEMFZLD/BenhOwQ==",
          "dtype": "f4"
         },
         "yaxis": "y"
        },
        {
         "hovertemplate": "color=22<br>x=%{x}<br>y=%{y}<extra></extra>",
         "legendgroup": "22",
         "marker": {
          "color": "#FFA15A",
          "symbol": "circle"
         },
         "mode": "markers",
         "name": "22",
         "showlegend": true,
         "type": "scattergl",
         "x": {
          "bdata": "KQFawQ8ei8EDFRDB1ZAJwVYJjcHoihHBKIXhwKXilcF9hJrBJ2olwTXdj8HDDZDBY8GbwT++lMEicIfBIjmKwZXvncGtHZfB2jedwXkam8EY0ojBA3mewRtag8GXdZbBRNuawSMVmcFSzY7BLHmhwZZKqcG40KTBCRuHwcOYi8Es3nLBIuRvwWT0rMG9+1fBnlzIwS9TZMFeCgrBuuSPwSBshcHaMVfBrRaFwRwQl8HVnqLBTANiwcuMj8F3A4/BNeZkweEngsGEqmXBJ4Nhwe91LMEvnzfBaH05wUNrPMGGSMzBS3OMwVxWjMGXNmHBP+6KwceSn8E=",
          "dtype": "f4"
         },
         "xaxis": "x",
         "y": {
          "bdata": "lEAfwpYHHsI5LiLCJ1IhwjpaKsKkeyPChbcfwvuPFcLmbgPCzLAMwhSfHsIKkS3CHF8awoAbGsIgbfDBR18swsJB9sGttCXCyc0twnowLcK+j/jBXFL5wSkR58Gd3RbCsswowgiu/MEoZx/C85ojwu7NHsKIEx7C3qLvwUKT/cFntBLChYkSwknVHsKlux/CzFfxwcavHMLAKSHCz9gewjAvF8K41x/CwjkXwjpOHcJKrRPCUCAKwjJRyMGCesnBlzgTwkFmEMKiuRLCeBcVwkjSD8J3UQ7Cw/cNwqPaDcI2EAfCp30qwumxGMKOzwvCnP0MwqsSysE=",
          "dtype": "f4"
         },
         "yaxis": "y"
        },
        {
         "hovertemplate": "color=32<br>x=%{x}<br>y=%{y}<extra></extra>",
         "legendgroup": "32",
         "marker": {
          "color": "#19d3f3",
          "symbol": "circle"
         },
         "mode": "markers",
         "name": "32",
         "showlegend": true,
         "type": "scattergl",
         "x": {
          "bdata": "Mg7CwcUW+cEOuq7BTd/JwcodwMH8y9jB7SbgwRBVrcGIxuDBLyXjwTruxMEtRLnBHpbjwSCbzMFY0eHBA5bZwXUMzMEYV/jBmSjMwTj+98HQRNrBPSnCwYtBtMEoKsvB90ypwTYi5sHz/rrB2WXHwdGDycErs0RCy2TJwQyblcEW9rvBLrNEQiYNvcFVJvjBATW0werwpcGG+aHBS4fowVnWo8HCIrzB5i+7wRxDt8E1M6XBUtCgwbbGrsF6KYXBD0iwwQ==",
          "dtype": "f4"
         },
         "xaxis": "x",
         "y": {
          "bdata": "RQO4QRp1z0F6NZZB0QuzQeAW0UHV0LlB6NPCQXvI/kHNz8VBPyfMQYlDxEFsVdJBofjKQY8svUGer89BIDXUQShO50HiTtVBjHzOQegUz0EildRB9tjHQS8AskF6uudBWxWrQXUS0kF0z/FB9CbNQT3wrEHPmatBj92xQVA5qEGSHd9BR5qrQWOIuEFqfNZBVUyyQfektUFhmbdBcy3AQcfBw0G3u+BBYXXxQaqbl0EXBadBUiPAQaIwoEEj/K5BO36ZQQ==",
          "dtype": "f4"
         },
         "yaxis": "y"
        },
        {
         "hovertemplate": "color=33<br>x=%{x}<br>y=%{y}<extra></extra>",
         "legendgroup": "33",
         "marker": {
          "color": "#FF6692",
          "symbol": "circle"
         },
         "mode": "markers",
         "name": "33",
         "showlegend": true,
         "type": "scattergl",
         "x": {
          "bdata": "IUD/wedhEMKWh59AXiAXwuNmFMJdIRHCQOMHwoK1BsJe5gPC5BsVwtXhEML5Gg7CsZMVwoVXCcIaDgrC8g0KwinQAcJnjAfCswMFwpjD58EFnwXC8YoOwoFB68H+/hHCYjOwQHxUDsJIiCTCDV2dQGFmCsKwGg7C+ScOwrpRFMKjfRXC6toNwvxU6MFZphnCDmoEwocYBcK0SRTC9Q0KwrOIB8I45vHBOuAJwkVhAsLIHAXCjzsKwrGbBsKr8RDCJV4KwgcZAsK/xiPCTCUbwjHH9sG/xiPCntokwn6eEcJEFBHCvx0QwhUTEcIo6uzBnR4QwoGWD8Is6uzB",
          "dtype": "f4"
         },
         "xaxis": "x",
         "y": {
          "bdata": "Z64HQlqnA0IRi69BpW0CQoEQCEKbou1BSkcBQt9zC0LVA+RB9pALQgfRC0KjfAJC8dsLQrWlCUIv9w1ClPcNQmrfH0JTwR5COdMiQoJzAEJzPiJCzLkMQnr3AkKHCwJCT2GvQbAuG0JEYhNCgYivQc6FH0JPfAJCxSsIQp5f8UGmpgRCHbMkQktIAULefAxCd2n2QZBA8kF97BBCufcNQs7sHEIxpwxCwwn7QUspKEIbmwZCdnH3QQpdEkJRdyJC9wn2QY5NDUJ29iRCiF8ZQv3R+kF29iRC+FETQj+IK0IsDRZCC/koQi8NFkLtYxxCe/soQj9IE0L0YxxC",
          "dtype": "f4"
         },
         "yaxis": "y"
        },
        {
         "hovertemplate": "color=3<br>x=%{x}<br>y=%{y}<extra></extra>",
         "legendgroup": "3",
         "marker": {
          "color": "#B6E880",
          "symbol": "circle"
         },
         "mode": "markers",
         "name": "3",
         "showlegend": true,
         "type": "scattergl",
         "x": {
          "bdata": "9m6IQendl0GoOohBjRGpQVuJhUHEeK1B4iWXQZkgmUFQ7LJBJIGeQSKDqUFG0YdBPRyUQTxvikHo3K9BGXiVQWmZrUF/vY9BSk+TQR5LskH+a7VBxgGZQXB5h0Hiq4dB0bWLQaVYuUEyaaJBiJKLQQZBrUEd/5ZBfiiNQUHsnUGK16NBnr+iQRIFnUGQO5ZB",
          "dtype": "f4"
         },
         "xaxis": "x",
         "y": {
          "bdata": "MES+QWTwpUFeGr5BOTnWQYIovEEt+s1BB0rYQbtg4UHADLtBN5mxQYsOykHYesVBDHXpQczZv0EUCsVBAKnpQbEMz0GDE8tBPOXpQcgdu0GfhLhBFRTiQaa2+UE+jPlBaSfFQehE00E1T8ZBiQamQa7WzUHl4ddBF1rsQYfC7kEk4utBJrjrQR6zr0Et76dB",
          "dtype": "f4"
         },
         "yaxis": "y"
        },
        {
         "hovertemplate": "color=7<br>x=%{x}<br>y=%{y}<extra></extra>",
         "legendgroup": "7",
         "marker": {
          "color": "#FF97FF",
          "symbol": "circle"
         },
         "mode": "markers",
         "name": "7",
         "showlegend": true,
         "type": "scattergl",
         "x": {
          "bdata": "7ihkws2+YsImzWTCFO5mwnPGYMLk9GPCm45lwtuUY8JvRmLCHVNdwsLfycGFs2bCmF5iwoizXsLRE8nB5QxhwjgxVsIIT1bCM+Rdwnr5ZMKY42DCWdNgwqYVYcI=",
          "dtype": "f4"
         },
         "xaxis": "x",
         "y": {
          "bdata": "weJBwGzFc8BV+qu/4kl1wOXcvMCL0w/BZEAEwK1eDsFMh9e/oQfZv73rEcLjBY/AzK0wwIDYBsAHHhHC/P6HwLcus8DTzrLAAWwjwQCfp7+OhQfBFqIHwRN0CsE=",
          "dtype": "f4"
         },
         "yaxis": "y"
        },
        {
         "hovertemplate": "color=25<br>x=%{x}<br>y=%{y}<extra></extra>",
         "legendgroup": "25",
         "marker": {
          "color": "#FECB52",
          "symbol": "circle"
         },
         "mode": "markers",
         "name": "25",
         "showlegend": true,
         "type": "scattergl",
         "x": {
          "bdata": "ejCXQEGOcECEqWBAOPlDQJg2jT/avpRArAXCQP+lk0An8UhAuQCCQKHaYEDtUT7AC8c9QHz1YUCnlXbBTJZ3wQDTjz8p5lhAeWxKQA==",
          "dtype": "f4"
         },
         "xaxis": "x",
         "y": {
          "bdata": "Q5G/wSy3t8GpO9nBkYOxwdK50MGYIcPB2lbCwVacwcHzOrLBqHHIwSSn2cFSg4q/OgGxwcuzusGCULDB1VmwwT6U0MHPJ7vB8ri/wQ==",
          "dtype": "f4"
         },
         "yaxis": "y"
        },
        {
         "hovertemplate": "color=9<br>x=%{x}<br>y=%{y}<extra></extra>",
         "legendgroup": "9",
         "marker": {
          "color": "#636efa",
          "symbol": "circle"
         },
         "mode": "markers",
         "name": "9",
         "showlegend": true,
         "type": "scattergl",
         "x": {
          "bdata": "vhFGwvrFTMJyx0zCDHJNwqszV8JfiVbCUEhRwrbhU8LNsVbCoVxLwluhUcJtGk/CUFVIwm/NSMKTrEXCv55RwmLyU8Iyi1jCN3xJwiDgVcJ1g0rCDhtFwgduS8KulUPCL3tJwtYaRcJ8ekvCHZZDwiHiU8I=",
          "dtype": "f4"
         },
         "xaxis": "x",
         "y": {
          "bdata": "QoGRQc4xj0GKhI1BJFFcQZcfmUF2ZolBTH2EQUSQlkEp/IlBfhKZQYSRc0G5LoNByul5QZV+e0ElaIVBeNWdQYxdlUE8QZFB1Q6rQQQycUHzW4RB8VZnQVkMo0GWTpVBD52HQRBWZ0Fp7qJBP06VQVRvjUE=",
          "dtype": "f4"
         },
         "yaxis": "y"
        },
        {
         "hovertemplate": "color=29<br>x=%{x}<br>y=%{y}<extra></extra>",
         "legendgroup": "29",
         "marker": {
          "color": "#EF553B",
          "symbol": "circle"
         },
         "mode": "markers",
         "name": "29",
         "showlegend": true,
         "type": "scattergl",
         "x": {
          "bdata": "0Yf1wOPYO8ERj9fAI9ADwVi2u8DwliDBqEYawS6D5r/YF2PB6kYawfiQ0cAsRUDAvn6IwKuHpMCAN3vBDyaNwcjJAsEms8nA47YKwUslo8AAIPjBflD2wJubU8ADGO+/2lFFwdb1xMEf6P6/+dTPwOHJ1cCj9bnAHlVdwfYCd8CyUA7BYOYKwW/We8H57mjBj3dqwSHy98B1S37BpDtzwb9n+MGER4bB6m+DwTLtVsHi1iTB3ntpwde09cCJDSLBGzaHwQ3pP8GD/YHB/n+AwKUGC8HasUTByGAdwTle6L+L8c7AomCNwWX6lMCYQK7AVTkywNGOc8DVjpHA9KOkwMFYesBqmZHAcazbwNry2MDviDrAmTfbwCdxpcBr4+nApOLpwA==",
          "dtype": "f4"
         },
         "xaxis": "x",
         "y": {
          "bdata": "7SYWQmAJ7UFnORZC29wZQpls0kEMYAlCBzwUQl4AHkJ8iudBHDwUQkDy7kGz2xBChMITQp7/BUI+fQBC+g4TQohsEUIitg9CaLvZQSY9CELsuapBLc7oQdwYCULQaR1CqmQPQm2zD0IYkc5Bi40NQvNv+0HSC8xB5x0HQu1vF0JRxBFC8KDZQYprAUKJ3fFBP7TvQXJeEkL4AwpCnXgSQnRMqkF9ww1CiwYQQoqLB0JbCAlCSC0VQlqNAEIrIO9BCq4QQhMOCkKusxBCmfIJQive2UH45g5CyRvwQenVHUJ8Nr5BL4YAQmYoykE3VMtBPwMRQgyYFEL5wU5C+XIIQo/1DUIYwU5CTR7LQVEn50EQngRC8pTmQUnPt0FhHPtB/Rz7QQ==",
          "dtype": "f4"
         },
         "yaxis": "y"
        },
        {
         "hovertemplate": "color=26<br>x=%{x}<br>y=%{y}<extra></extra>",
         "legendgroup": "26",
         "marker": {
          "color": "#00cc96",
          "symbol": "circle"
         },
         "mode": "markers",
         "name": "26",
         "showlegend": true,
         "type": "scattergl",
         "x": {
          "bdata": "2QC1waigp8FRB7jBcg+twflDsMH96MLBgkD0wYX2wsG6SMvB7wyuweYPo8ErwdfBARO+wd+uvcGsstXBtbevwWsbpcH5StbB",
          "dtype": "f4"
         },
         "xaxis": "x",
         "y": {
          "bdata": "6QkKQRAkBUE8DgpBZmsSQUCLy0CKSLBAXMyAvkfwqkBl4u5ACnXFQIIQukDNkKVAoycBQXP730B03KRAx+8QQSRquEADUJZA",
          "dtype": "f4"
         },
         "yaxis": "y"
        },
        {
         "hovertemplate": "color=11<br>x=%{x}<br>y=%{y}<extra></extra>",
         "legendgroup": "11",
         "marker": {
          "color": "#ab63fa",
          "symbol": "circle"
         },
         "mode": "markers",
         "name": "11",
         "showlegend": true,
         "type": "scattergl",
         "x": {
          "bdata": "HCwGQhR6dEEdQ1tBVMLOQeiGXkEEolZBs0NOQWD3iUFjeYdBrmWIQT9lg0Evn2dB95ScQaT7nEG2uYNB1eWFQaHhmkFmeIBBA4SBQVvymkH0jFRB5QyLQcf3iUFnZYhBn2WDQQ==",
          "dtype": "f4"
         },
         "xaxis": "x",
         "y": {
          "bdata": "2TvzwWD29cEmYuHBz/0rwUKS1sGiixPC8KoTwp7p8MEuFNvBZpzqwa8K8sFUPt7B3cIXwstVF8L3ROPBbxnkwfsgGsIGhuvBHJ3lwSERGsL3S/rBlGn7wcjo8MF1nOrBLgzywQ==",
          "dtype": "f4"
         },
         "yaxis": "y"
        },
        {
         "hovertemplate": "color=24<br>x=%{x}<br>y=%{y}<extra></extra>",
         "legendgroup": "24",
         "marker": {
          "color": "#FFA15A",
          "symbol": "circle"
         },
         "mode": "markers",
         "name": "24",
         "showlegend": true,
         "type": "scattergl",
         "x": {
          "bdata": "JLQEwuHWBsKORfjBm+j+wc9fwEGwPAzCBvgAwl5WBcLLfgXCMqYFwtgb/8E3o/TBLsz3wU6sBMI0dwLCC8sIwolOCcKdNPzBXqfqwTn87cGSeg7CjLcEwr5k8MG9U/jBedzpwQ==",
          "dtype": "f4"
         },
         "xaxis": "x",
         "y": {
          "bdata": "tfssQdChyEAHedhA/jAUQb9wusAUPhBBHwjWQC8pNEHXNwpB3g85Qd69DUFR1gJBl0woQcV0/EBcSP5AXizTQKfO2UD2RDRB6TeMQOOOIUHMrhFBL+/4QB0iAEFom9lA4pmNQA==",
          "dtype": "f4"
         },
         "yaxis": "y"
        }
       ],
       "layout": {
        "legend": {
         "title": {
          "text": "color"
         },
         "tracegroupgap": 0
        },
        "template": {
         "data": {
          "bar": [
           {
            "error_x": {
             "color": "#2a3f5f"
            },
            "error_y": {
             "color": "#2a3f5f"
            },
            "marker": {
             "line": {
              "color": "#E5ECF6",
              "width": 0.5
             },
             "pattern": {
              "fillmode": "overlay",
              "size": 10,
              "solidity": 0.2
             }
            },
            "type": "bar"
           }
          ],
          "barpolar": [
           {
            "marker": {
             "line": {
              "color": "#E5ECF6",
              "width": 0.5
             },
             "pattern": {
              "fillmode": "overlay",
              "size": 10,
              "solidity": 0.2
             }
            },
            "type": "barpolar"
           }
          ],
          "carpet": [
           {
            "aaxis": {
             "endlinecolor": "#2a3f5f",
             "gridcolor": "white",
             "linecolor": "white",
             "minorgridcolor": "white",
             "startlinecolor": "#2a3f5f"
            },
            "baxis": {
             "endlinecolor": "#2a3f5f",
             "gridcolor": "white",
             "linecolor": "white",
             "minorgridcolor": "white",
             "startlinecolor": "#2a3f5f"
            },
            "type": "carpet"
           }
          ],
          "choropleth": [
           {
            "colorbar": {
             "outlinewidth": 0,
             "ticks": ""
            },
            "type": "choropleth"
           }
          ],
          "contour": [
           {
            "colorbar": {
             "outlinewidth": 0,
             "ticks": ""
            },
            "colorscale": [
             [
              0,
              "#0d0887"
             ],
             [
              0.1111111111111111,
              "#46039f"
             ],
             [
              0.2222222222222222,
              "#7201a8"
             ],
             [
              0.3333333333333333,
              "#9c179e"
             ],
             [
              0.4444444444444444,
              "#bd3786"
             ],
             [
              0.5555555555555556,
              "#d8576b"
             ],
             [
              0.6666666666666666,
              "#ed7953"
             ],
             [
              0.7777777777777778,
              "#fb9f3a"
             ],
             [
              0.8888888888888888,
              "#fdca26"
             ],
             [
              1,
              "#f0f921"
             ]
            ],
            "type": "contour"
           }
          ],
          "contourcarpet": [
           {
            "colorbar": {
             "outlinewidth": 0,
             "ticks": ""
            },
            "type": "contourcarpet"
           }
          ],
          "heatmap": [
           {
            "colorbar": {
             "outlinewidth": 0,
             "ticks": ""
            },
            "colorscale": [
             [
              0,
              "#0d0887"
             ],
             [
              0.1111111111111111,
              "#46039f"
             ],
             [
              0.2222222222222222,
              "#7201a8"
             ],
             [
              0.3333333333333333,
              "#9c179e"
             ],
             [
              0.4444444444444444,
              "#bd3786"
             ],
             [
              0.5555555555555556,
              "#d8576b"
             ],
             [
              0.6666666666666666,
              "#ed7953"
             ],
             [
              0.7777777777777778,
              "#fb9f3a"
             ],
             [
              0.8888888888888888,
              "#fdca26"
             ],
             [
              1,
              "#f0f921"
             ]
            ],
            "type": "heatmap"
           }
          ],
          "histogram": [
           {
            "marker": {
             "pattern": {
              "fillmode": "overlay",
              "size": 10,
              "solidity": 0.2
             }
            },
            "type": "histogram"
           }
          ],
          "histogram2d": [
           {
            "colorbar": {
             "outlinewidth": 0,
             "ticks": ""
            },
            "colorscale": [
             [
              0,
              "#0d0887"
             ],
             [
              0.1111111111111111,
              "#46039f"
             ],
             [
              0.2222222222222222,
              "#7201a8"
             ],
             [
              0.3333333333333333,
              "#9c179e"
             ],
             [
              0.4444444444444444,
              "#bd3786"
             ],
             [
              0.5555555555555556,
              "#d8576b"
             ],
             [
              0.6666666666666666,
              "#ed7953"
             ],
             [
              0.7777777777777778,
              "#fb9f3a"
             ],
             [
              0.8888888888888888,
              "#fdca26"
             ],
             [
              1,
              "#f0f921"
             ]
            ],
            "type": "histogram2d"
           }
          ],
          "histogram2dcontour": [
           {
            "colorbar": {
             "outlinewidth": 0,
             "ticks": ""
            },
            "colorscale": [
             [
              0,
              "#0d0887"
             ],
             [
              0.1111111111111111,
              "#46039f"
             ],
             [
              0.2222222222222222,
              "#7201a8"
             ],
             [
              0.3333333333333333,
              "#9c179e"
             ],
             [
              0.4444444444444444,
              "#bd3786"
             ],
             [
              0.5555555555555556,
              "#d8576b"
             ],
             [
              0.6666666666666666,
              "#ed7953"
             ],
             [
              0.7777777777777778,
              "#fb9f3a"
             ],
             [
              0.8888888888888888,
              "#fdca26"
             ],
             [
              1,
              "#f0f921"
             ]
            ],
            "type": "histogram2dcontour"
           }
          ],
          "mesh3d": [
           {
            "colorbar": {
             "outlinewidth": 0,
             "ticks": ""
            },
            "type": "mesh3d"
           }
          ],
          "parcoords": [
           {
            "line": {
             "colorbar": {
              "outlinewidth": 0,
              "ticks": ""
             }
            },
            "type": "parcoords"
           }
          ],
          "pie": [
           {
            "automargin": true,
            "type": "pie"
           }
          ],
          "scatter": [
           {
            "fillpattern": {
             "fillmode": "overlay",
             "size": 10,
             "solidity": 0.2
            },
            "type": "scatter"
           }
          ],
          "scatter3d": [
           {
            "line": {
             "colorbar": {
              "outlinewidth": 0,
              "ticks": ""
             }
            },
            "marker": {
             "colorbar": {
              "outlinewidth": 0,
              "ticks": ""
             }
            },
            "type": "scatter3d"
           }
          ],
          "scattercarpet": [
           {
            "marker": {
             "colorbar": {
              "outlinewidth": 0,
              "ticks": ""
             }
            },
            "type": "scattercarpet"
           }
          ],
          "scattergeo": [
           {
            "marker": {
             "colorbar": {
              "outlinewidth": 0,
              "ticks": ""
             }
            },
            "type": "scattergeo"
           }
          ],
          "scattergl": [
           {
            "marker": {
             "colorbar": {
              "outlinewidth": 0,
              "ticks": ""
             }
            },
            "type": "scattergl"
           }
          ],
          "scattermap": [
           {
            "marker": {
             "colorbar": {
              "outlinewidth": 0,
              "ticks": ""
             }
            },
            "type": "scattermap"
           }
          ],
          "scattermapbox": [
           {
            "marker": {
             "colorbar": {
              "outlinewidth": 0,
              "ticks": ""
             }
            },
            "type": "scattermapbox"
           }
          ],
          "scatterpolar": [
           {
            "marker": {
             "colorbar": {
              "outlinewidth": 0,
              "ticks": ""
             }
            },
            "type": "scatterpolar"
           }
          ],
          "scatterpolargl": [
           {
            "marker": {
             "colorbar": {
              "outlinewidth": 0,
              "ticks": ""
             }
            },
            "type": "scatterpolargl"
           }
          ],
          "scatterternary": [
           {
            "marker": {
             "colorbar": {
              "outlinewidth": 0,
              "ticks": ""
             }
            },
            "type": "scatterternary"
           }
          ],
          "surface": [
           {
            "colorbar": {
             "outlinewidth": 0,
             "ticks": ""
            },
            "colorscale": [
             [
              0,
              "#0d0887"
             ],
             [
              0.1111111111111111,
              "#46039f"
             ],
             [
              0.2222222222222222,
              "#7201a8"
             ],
             [
              0.3333333333333333,
              "#9c179e"
             ],
             [
              0.4444444444444444,
              "#bd3786"
             ],
             [
              0.5555555555555556,
              "#d8576b"
             ],
             [
              0.6666666666666666,
              "#ed7953"
             ],
             [
              0.7777777777777778,
              "#fb9f3a"
             ],
             [
              0.8888888888888888,
              "#fdca26"
             ],
             [
              1,
              "#f0f921"
             ]
            ],
            "type": "surface"
           }
          ],
          "table": [
           {
            "cells": {
             "fill": {
              "color": "#EBF0F8"
             },
             "line": {
              "color": "white"
             }
            },
            "header": {
             "fill": {
              "color": "#C8D4E3"
             },
             "line": {
              "color": "white"
             }
            },
            "type": "table"
           }
          ]
         },
         "layout": {
          "annotationdefaults": {
           "arrowcolor": "#2a3f5f",
           "arrowhead": 0,
           "arrowwidth": 1
          },
          "autotypenumbers": "strict",
          "coloraxis": {
           "colorbar": {
            "outlinewidth": 0,
            "ticks": ""
           }
          },
          "colorscale": {
           "diverging": [
            [
             0,
             "#8e0152"
            ],
            [
             0.1,
             "#c51b7d"
            ],
            [
             0.2,
             "#de77ae"
            ],
            [
             0.3,
             "#f1b6da"
            ],
            [
             0.4,
             "#fde0ef"
            ],
            [
             0.5,
             "#f7f7f7"
            ],
            [
             0.6,
             "#e6f5d0"
            ],
            [
             0.7,
             "#b8e186"
            ],
            [
             0.8,
             "#7fbc41"
            ],
            [
             0.9,
             "#4d9221"
            ],
            [
             1,
             "#276419"
            ]
           ],
           "sequential": [
            [
             0,
             "#0d0887"
            ],
            [
             0.1111111111111111,
             "#46039f"
            ],
            [
             0.2222222222222222,
             "#7201a8"
            ],
            [
             0.3333333333333333,
             "#9c179e"
            ],
            [
             0.4444444444444444,
             "#bd3786"
            ],
            [
             0.5555555555555556,
             "#d8576b"
            ],
            [
             0.6666666666666666,
             "#ed7953"
            ],
            [
             0.7777777777777778,
             "#fb9f3a"
            ],
            [
             0.8888888888888888,
             "#fdca26"
            ],
            [
             1,
             "#f0f921"
            ]
           ],
           "sequentialminus": [
            [
             0,
             "#0d0887"
            ],
            [
             0.1111111111111111,
             "#46039f"
            ],
            [
             0.2222222222222222,
             "#7201a8"
            ],
            [
             0.3333333333333333,
             "#9c179e"
            ],
            [
             0.4444444444444444,
             "#bd3786"
            ],
            [
             0.5555555555555556,
             "#d8576b"
            ],
            [
             0.6666666666666666,
             "#ed7953"
            ],
            [
             0.7777777777777778,
             "#fb9f3a"
            ],
            [
             0.8888888888888888,
             "#fdca26"
            ],
            [
             1,
             "#f0f921"
            ]
           ]
          },
          "colorway": [
           "#636efa",
           "#EF553B",
           "#00cc96",
           "#ab63fa",
           "#FFA15A",
           "#19d3f3",
           "#FF6692",
           "#B6E880",
           "#FF97FF",
           "#FECB52"
          ],
          "font": {
           "color": "#2a3f5f"
          },
          "geo": {
           "bgcolor": "white",
           "lakecolor": "white",
           "landcolor": "#E5ECF6",
           "showlakes": true,
           "showland": true,
           "subunitcolor": "white"
          },
          "hoverlabel": {
           "align": "left"
          },
          "hovermode": "closest",
          "mapbox": {
           "style": "light"
          },
          "paper_bgcolor": "white",
          "plot_bgcolor": "#E5ECF6",
          "polar": {
           "angularaxis": {
            "gridcolor": "white",
            "linecolor": "white",
            "ticks": ""
           },
           "bgcolor": "#E5ECF6",
           "radialaxis": {
            "gridcolor": "white",
            "linecolor": "white",
            "ticks": ""
           }
          },
          "scene": {
           "xaxis": {
            "backgroundcolor": "#E5ECF6",
            "gridcolor": "white",
            "gridwidth": 2,
            "linecolor": "white",
            "showbackground": true,
            "ticks": "",
            "zerolinecolor": "white"
           },
           "yaxis": {
            "backgroundcolor": "#E5ECF6",
            "gridcolor": "white",
            "gridwidth": 2,
            "linecolor": "white",
            "showbackground": true,
            "ticks": "",
            "zerolinecolor": "white"
           },
           "zaxis": {
            "backgroundcolor": "#E5ECF6",
            "gridcolor": "white",
            "gridwidth": 2,
            "linecolor": "white",
            "showbackground": true,
            "ticks": "",
            "zerolinecolor": "white"
           }
          },
          "shapedefaults": {
           "line": {
            "color": "#2a3f5f"
           }
          },
          "ternary": {
           "aaxis": {
            "gridcolor": "white",
            "linecolor": "white",
            "ticks": ""
           },
           "baxis": {
            "gridcolor": "white",
            "linecolor": "white",
            "ticks": ""
           },
           "bgcolor": "#E5ECF6",
           "caxis": {
            "gridcolor": "white",
            "linecolor": "white",
            "ticks": ""
           }
          },
          "title": {
           "x": 0.05
          },
          "xaxis": {
           "automargin": true,
           "gridcolor": "white",
           "linecolor": "white",
           "ticks": "",
           "title": {
            "standoff": 15
           },
           "zerolinecolor": "white",
           "zerolinewidth": 2
          },
          "yaxis": {
           "automargin": true,
           "gridcolor": "white",
           "linecolor": "white",
           "ticks": "",
           "title": {
            "standoff": 15
           },
           "zerolinecolor": "white",
           "zerolinewidth": 2
          }
         }
        },
        "title": {
         "text": "t-SNE visualization of embeddings"
        },
        "xaxis": {
         "anchor": "y",
         "domain": [
          0,
          1
         ],
         "title": {
          "text": "x"
         }
        },
        "yaxis": {
         "anchor": "x",
         "domain": [
          0,
          1
         ],
         "title": {
          "text": "y"
         }
        }
       }
      }
     },
     "metadata": {},
     "output_type": "display_data"
    }
   ],
   "source": [
    "import plotly.express as px\n",
    "\n",
    "# Create outputs directory if it doesn't exist\n",
    "outputs_dir = root / \"outputs\"\n",
    "outputs_dir.mkdir(exist_ok=True)\n",
    "\n",
    "fig = px.scatter(\n",
    "    x=embeddings_tsne[:, 0],\n",
    "    y=embeddings_tsne[:, 1],\n",
    "    color=cluster_labels.astype(str),\n",
    "    title=\"t-SNE visualization of embeddings\"\n",
    ")\n",
    "\n",
    "fig.show()\n",
    "# Save to dedicated outputs directory with descriptive filename\n",
    "fig.write_html(outputs_dir / \"hdbscan_tsne_clusters.html\")"
   ]
  }
 ],
 "metadata": {
  "kernelspec": {
   "display_name": "Python 3",
   "language": "python",
   "name": "python3"
  },
  "language_info": {
   "codemirror_mode": {
    "name": "ipython",
    "version": 3
   },
   "file_extension": ".py",
   "mimetype": "text/x-python",
   "name": "python",
   "nbconvert_exporter": "python",
   "pygments_lexer": "ipython3",
   "version": "3.10.12"
  }
 },
 "nbformat": 4,
 "nbformat_minor": 5
}
