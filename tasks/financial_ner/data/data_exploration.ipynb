{
 "cells": [
  {
   "cell_type": "code",
   "execution_count": 9,
   "id": "cf5f8ead",
   "metadata": {},
   "outputs": [],
   "source": [
    "from datasets import load_dataset\n",
    "\n",
    "ds = load_dataset(\"Josephgflowers/Financial-NER-NLP\")"
   ]
  },
  {
   "cell_type": "code",
   "execution_count": 10,
   "id": "457fa59d",
   "metadata": {},
   "outputs": [
    {
     "data": {
      "text/plain": [
       "DatasetDict({\n",
       "    train: Dataset({\n",
       "        features: ['system', 'user', 'assistant'],\n",
       "        num_rows: 900384\n",
       "    })\n",
       "})"
      ]
     },
     "execution_count": 10,
     "metadata": {},
     "output_type": "execute_result"
    }
   ],
   "source": [
    "ds"
   ]
  },
  {
   "cell_type": "code",
   "execution_count": 11,
   "id": "3416f2c9",
   "metadata": {},
   "outputs": [
    {
     "data": {
      "text/plain": [
       "{'system': 'Extract the named entities in this text using 139 XBRL tags in the IOB2 format. Return the results in JSON format.',\n",
       " 'user': 'ITEM 1 Financial Statements Lennar Corporation and Subsidiaries Condensed Consolidated Balance Sheets ( Dollars in thousands , except shares and per share amounts ) ( unaudited ) ( 1 ) Under certain provisions of Accounting Standards Codification ( “ ASC ” ) Topic 810 , Consolidations , ( “ ASC 810 ” ) the Company is required to separately disclose on its condensed consolidated balance sheets the assets owned by consolidated variable interest entities ( “ VIEs ” ) and liabilities of consolidated VIEs as to which neither Lennar Corporation , or any of its subsidiaries , has any obligations . As of May 31 , 2016 , total assets include $ 645.1 million related to consolidated VIEs of which $ 8.2 million is included in Lennar Homebuilding cash and cash equivalents , $ 0.1 million in Lennar Homebuilding receivables , net , $ 6.2 million in Lennar Homebuilding finished homes and construction in progress , $ 158.8 million in Lennar Homebuilding land and land under development , $ 134.5 million in Lennar Homebuilding consolidated inventory not owned , $ 4.5 million in Lennar Homebuilding investments in unconsolidated entities , $ 21.4 million in Lennar Homebuilding other assets , $ 280.0 million in Rialto assets and $ 31.4 million in Lennar Multifamily assets . As of November 30 , 2015 , total assets include $ 652.3 million related to consolidated VIEs of which $ 9.6 million is included in Lennar Homebuilding cash and cash equivalents , $ 0.5 million in Lennar Homebuilding receivables , net , $ 3.9 million in Lennar Homebuilding finished homes and construction in progress , $ 154.2 million in Lennar Homebuilding land and land under development , $ 58.9 million in Lennar Homebuilding consolidated inventory not owned , $ 35.8 million in Lennar Homebuilding investments in unconsolidated entities , $ 22.7 million in Lennar Homebuilding other assets , $ 355.2 million in Rialto assets and $ 11.5 million in Lennar Multifamily assets .',\n",
       " 'assistant': \"{'EquityMethodInvestments': ['4.5', '35.8']}\"}"
      ]
     },
     "execution_count": 11,
     "metadata": {},
     "output_type": "execute_result"
    }
   ],
   "source": [
    "ds['train'][0]"
   ]
  },
  {
   "cell_type": "code",
   "execution_count": 12,
   "id": "62cbac52",
   "metadata": {},
   "outputs": [],
   "source": [
    "import os\n",
    "import json\n",
    "import random\n",
    "\n",
    "output_dir = \"dataset\"\n",
    "os.makedirs(output_dir, exist_ok=True)\n",
    "\n",
    "# Extract all examples\n",
    "examples = []\n",
    "for i, ex in enumerate(ds['train']):\n",
    "    example_id = f\"{i}\"\n",
    "    user_text = ex['user']\n",
    "    assistant_text = ex['assistant']\n",
    "    text = f\"User: {user_text}\\nAssistant Prediction:\\n{assistant_text}\"\n",
    "    examples.append({\"example_id\": example_id, \"text\": text})\n",
    "\n",
    "random.shuffle(examples)\n",
    "examples = examples[:int(len(examples) * 0.01)] # only keep 1% of data for testing\n",
    "n = len(examples)\n",
    "train_split = int(n * 0.8)\n",
    "dev_split = int(n * 0.1)\n",
    "\n",
    "train_examples = examples[:train_split]\n",
    "dev_examples = examples[train_split:train_split + dev_split]\n",
    "test_examples = examples[train_split + dev_split:]\n",
    "\n",
    "def save_jsonl(data, path):\n",
    "    with open(path, \"w\", encoding=\"utf-8\") as f:\n",
    "        for ex in data:\n",
    "            f.write(json.dumps(ex) + \"\\n\")\n",
    "\n",
    "save_jsonl(train_examples, os.path.join(output_dir, \"Financial-NER-NLP_train.jsonl\"))\n",
    "save_jsonl(dev_examples, os.path.join(output_dir, \"Financial-NER-NLP_dev.jsonl\"))\n",
    "save_jsonl(test_examples, os.path.join(output_dir, \"Financial-NER-NLP_test.jsonl\"))"
   ]
  }
 ],
 "metadata": {
  "kernelspec": {
   "display_name": "Python 3",
   "language": "python",
   "name": "python3"
  },
  "language_info": {
   "codemirror_mode": {
    "name": "ipython",
    "version": 3
   },
   "file_extension": ".py",
   "mimetype": "text/x-python",
   "name": "python",
   "nbconvert_exporter": "python",
   "pygments_lexer": "ipython3",
   "version": "3.10.12"
  }
 },
 "nbformat": 4,
 "nbformat_minor": 5
}
